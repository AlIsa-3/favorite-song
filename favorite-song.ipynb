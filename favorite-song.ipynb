{
 "cells": [
  {
   "cell_type": "markdown",
   "metadata": {},
   "source": [
    "# Favorite Song Selection"
   ]
  },
  {
   "cell_type": "markdown",
   "metadata": {},
   "source": [
    "### Imports"
   ]
  },
  {
   "cell_type": "code",
   "execution_count": null,
   "metadata": {},
   "outputs": [],
   "source": [
    "from bs4 import BeautifulSoup\n",
    "import requests\n",
    "import random as r"
   ]
  },
  {
   "cell_type": "markdown",
   "metadata": {},
   "source": [
    "## Get Album URL from MusicBrainz"
   ]
  },
  {
   "cell_type": "code",
   "execution_count": null,
   "metadata": {},
   "outputs": [],
   "source": [
    "url = input(\"Enter the url for the album\")\n",
    "data = requests.get(url)"
   ]
  },
  {
   "cell_type": "markdown",
   "metadata": {},
   "source": [
    "## Get Track Titles\n",
    "\n",
    "\n",
    "If there are too many tracks (100+) it only loads the first 100"
   ]
  },
  {
   "cell_type": "code",
   "execution_count": null,
   "metadata": {},
   "outputs": [],
   "source": [
    "web_data = BeautifulSoup(data.content,\"html.parser\")"
   ]
  },
  {
   "cell_type": "markdown",
   "metadata": {},
   "source": [
    "### Filter Data to get Track Titles"
   ]
  },
  {
   "cell_type": "code",
   "execution_count": null,
   "metadata": {},
   "outputs": [],
   "source": [
    "# This gets the track listing\n",
    "first_pass = web_data.find_all(class_=\"title wrap-anywhere\")\n",
    "second_pass = [result.find_all(\"a\")[0] for result in first_pass]\n",
    "track_list = [result.find_all(\"bdi\")[0].text for result in second_pass]"
   ]
  },
  {
   "cell_type": "markdown",
   "metadata": {},
   "source": [
    "## Pick Favorite Song"
   ]
  },
  {
   "cell_type": "code",
   "execution_count": null,
   "metadata": {},
   "outputs": [],
   "source": [
    "def favorite_song(tracks):\n",
    "    available = [song for song in tracks]\n",
    "\n",
    "    for i in range(len(available)-1):\n",
    "        choices = r.sample(available,2)\n",
    "\n",
    "        selection = input(f\"{choices[0]} vs {choices[1]} (A vs B)\").upper()\n",
    "\n",
    "        if selection == \"A\":\n",
    "            available.remove(choices[1])\n",
    "        elif selection == \"B\":\n",
    "            available.remove(choices[0])\n",
    "        else:\n",
    "            raise ValueError(f\"Invalid Input ({selection}): Enter either A or B. \")\n",
    "        \n",
    "    return available[0]"
   ]
  },
  {
   "cell_type": "code",
   "execution_count": null,
   "metadata": {},
   "outputs": [],
   "source": [
    "def top_n_songs(fav_song,tracks,n):\n",
    "    song_list = [song for song in tracks]\n",
    "    favorite_songs = []\n",
    "    for song in range(n):\n",
    "        nth_fav = fav_song(song_list)\n",
    "        song_list.remove(nth_fav)\n",
    "        favorite_songs.append(nth_fav)\n",
    "        print(f\"#{song+1} song: {nth_fav}\") # Print out song choices as they are made\n",
    "    \n",
    "    for index,val in enumerate(favorite_songs):\n",
    "        print(f\"{index+1} : {val}\") # Print out song ranking"
   ]
  },
  {
   "cell_type": "markdown",
   "metadata": {},
   "source": [
    "## Choose Top n songs"
   ]
  },
  {
   "cell_type": "code",
   "execution_count": null,
   "metadata": {},
   "outputs": [],
   "source": [
    "top_n_songs(favorite_song,track_list,n=1)"
   ]
  }
 ],
 "metadata": {
  "kernelspec": {
   "display_name": "Python 3",
   "language": "python",
   "name": "python3"
  },
  "language_info": {
   "codemirror_mode": {
    "name": "ipython",
    "version": 3
   },
   "file_extension": ".py",
   "mimetype": "text/x-python",
   "name": "python",
   "nbconvert_exporter": "python",
   "pygments_lexer": "ipython3",
   "version": "3.13.2"
  }
 },
 "nbformat": 4,
 "nbformat_minor": 2
}
