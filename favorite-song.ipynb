{
 "cells": [
  {
   "cell_type": "markdown",
   "metadata": {},
   "source": [
    "# Favorite Song Selection"
   ]
  },
  {
   "cell_type": "markdown",
   "metadata": {},
   "source": [
    "### Imports"
   ]
  },
  {
   "cell_type": "code",
   "execution_count": null,
   "metadata": {},
   "outputs": [],
   "source": [
    "from bs4 import BeautifulSoup\n",
    "import requests\n",
    "import random as r"
   ]
  },
  {
   "cell_type": "markdown",
   "metadata": {},
   "source": [
    "## Parameters"
   ]
  },
  {
   "cell_type": "markdown",
   "metadata": {},
   "source": [
    "### Set Run Mode"
   ]
  },
  {
   "cell_type": "code",
   "execution_count": null,
   "metadata": {},
   "outputs": [],
   "source": [
    "mode = input(\"Enter the mode: Single or Multiple\").lower().replace(\" \",\"\")\n",
    "\n",
    "if mode not in [\"single\",\"multiple\"]:\n",
    "    print(f\"Entered mode {mode} not valid, proceeding with Single\")\n",
    "    mode = \"single\""
   ]
  },
  {
   "cell_type": "markdown",
   "metadata": {},
   "source": [
    "### Top n songs"
   ]
  },
  {
   "cell_type": "code",
   "execution_count": null,
   "metadata": {},
   "outputs": [],
   "source": [
    "number_of_songs = 1"
   ]
  },
  {
   "cell_type": "markdown",
   "metadata": {},
   "source": [
    "## Get Album URL from MusicBrainz"
   ]
  },
  {
   "cell_type": "code",
   "execution_count": null,
   "metadata": {},
   "outputs": [],
   "source": [
    "def get_tracklist(url):\n",
    "    \"\"\"Gets an Album Tracklist from MusicBrainz. Can only get the first 100 tracks in long albums\"\"\"\n",
    "    \n",
    "    data = requests.get(url)\n",
    "    web_data = BeautifulSoup(data.content,\"html.parser\")\n",
    "\n",
    "    # Filters the data to obtain track titles\n",
    "    first_pass = web_data.find_all(class_=\"title wrap-anywhere\")\n",
    "    second_pass = [result.find_all(\"a\")[0] for result in first_pass]\n",
    "    track_list = [result.find_all(\"bdi\")[0].text for result in second_pass]\n",
    "\n",
    "    return track_list"
   ]
  },
  {
   "cell_type": "code",
   "execution_count": null,
   "metadata": {},
   "outputs": [],
   "source": [
    "if mode == \"single\":\n",
    "    url = input(\"Enter the url for the album\")\n",
    "    track_list = get_tracklist(url)\n",
    "\n",
    "else:\n",
    "    tracklists = []\n",
    "    try:\n",
    "        with open(\"albums.txt\",\"r\") as album_links:\n",
    "            albums = album_links.readlines()\n",
    "    except FileNotFoundError:\n",
    "        raise FileNotFoundError(\"Album URL file albums.txt does not exist. If only using one album URL use mode 'Single' instead\")\n",
    "        \n",
    "    # Build a list of tracks for each album supplied through the file\n",
    "    for album_url in albums:\n",
    "        tracklists.append(get_tracklist(album_url.rstrip(\"\\n\")))"
   ]
  },
  {
   "cell_type": "markdown",
   "metadata": {},
   "source": [
    "## Pick Favorite Song"
   ]
  },
  {
   "cell_type": "code",
   "execution_count": null,
   "metadata": {},
   "outputs": [],
   "source": [
    "def favorite_song(tracks):\n",
    "    available = [song for song in tracks]\n",
    "\n",
    "    for i in range(len(available)-1):\n",
    "        choices = r.sample(available,2)\n",
    "\n",
    "        selection = input(f\"{choices[0]} vs {choices[1]} (A vs B): \").upper()\n",
    "\n",
    "        if selection == \"A\":\n",
    "            available.remove(choices[1])\n",
    "        elif selection == \"B\":\n",
    "            available.remove(choices[0])\n",
    "        else:\n",
    "            raise ValueError(f\"Invalid Input ({selection}): Enter either A or B. \")\n",
    "        \n",
    "    return available[0]"
   ]
  },
  {
   "cell_type": "code",
   "execution_count": null,
   "metadata": {},
   "outputs": [],
   "source": [
    "def top_n_songs(fav_song,tracks,n):\n",
    "    song_list = [song for song in tracks]\n",
    "    favorite_songs = []\n",
    "    for song in range(n):\n",
    "        nth_fav = fav_song(song_list)\n",
    "        song_list.remove(nth_fav)\n",
    "        favorite_songs.append(nth_fav)\n",
    "        print(f\"#{song+1} song: {nth_fav}\") # Print out song choices as they are made\n",
    "    \n",
    "    for index,val in enumerate(favorite_songs):\n",
    "        print(f\"{index+1} : {val}\") # Print out song ranking\n",
    "    \n",
    "    return favorite_songs"
   ]
  },
  {
   "cell_type": "markdown",
   "metadata": {},
   "source": [
    "## Choose Top n songs"
   ]
  },
  {
   "cell_type": "code",
   "execution_count": null,
   "metadata": {},
   "outputs": [],
   "source": [
    "if mode == \"single\":\n",
    "    top_n_songs(favorite_song,track_list,n = number_of_songs)\n",
    "\n",
    "else:\n",
    "    with open(\"playlist.txt\",\"a+\") as file:\n",
    "        for track_list in tracklists:\n",
    "            favorite_songs = top_n_songs(favorite_song,tracks = track_list,n = number_of_songs)\n",
    "            for song in favorite_songs:\n",
    "                file.write(f\"{song}\\n\")"
   ]
  }
 ],
 "metadata": {
  "kernelspec": {
   "display_name": "Python 3",
   "language": "python",
   "name": "python3"
  },
  "language_info": {
   "codemirror_mode": {
    "name": "ipython",
    "version": 3
   },
   "file_extension": ".py",
   "mimetype": "text/x-python",
   "name": "python",
   "nbconvert_exporter": "python",
   "pygments_lexer": "ipython3",
   "version": "3.13.2"
  }
 },
 "nbformat": 4,
 "nbformat_minor": 2
}
